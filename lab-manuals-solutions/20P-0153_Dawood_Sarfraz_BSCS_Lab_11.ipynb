{
 "cells": [
  {
   "cell_type": "raw",
   "id": "b28d7822",
   "metadata": {},
   "source": [
    "# A* Search Algorithm Implementation for Shortest Path Finding in Romania Map\n",
    "\n",
    "Problem Statement: Implement the A* search algorithm in Python to find the shortest path\n",
    "between two cities on the map of Romania. The heuristic function used should be the straight-\n",
    "line distance between two cities.\n",
    "Heuristic Function: The straight-line distance between two cities can be calculated using the\n",
    "latitude and longitude of the cities. This can be obtained using the geopy library in Python. Or\n",
    "use the following\n",
    "lat_long = {\n",
    "'Arad': (46.1667, 21.3167), \n",
    "'Bucharest': (44.4167, 26.1000),\n",
    "'Craiova': (44.3333, 23.8167), \n",
    "'Drobeta': (44.6259, 22.6566),\n",
    "'Eforie': (44.0667, 28.6333), \n",
    "'Fagaras': (45.8416, 24.9730),\n",
    "'Giurgiu': (43.9037, 25.9699), \n",
    "'Hirsova': (44.6833, 27.9500),\n",
    "'Iasi': (47.1585, 27.6014), \n",
    "'Lugoj': (45.6904, 21.9033),\n",
    "'Neamt': (46.9283, 26.3705), \n",
    "'Oradea': (47.0553, 21.9214),\n",
    "'Pitesti': (44.8565, 24.8697), \n",
    "'Rimnicu Vilcea': (45.1042, 24.3758),\n",
    "'Sibiu': (45.7977, 24.1521), \n",
    "'Timisoara': (45.7489, 21.2087),\n",
    "'Urziceni': (44.7167, 26.6333),\n",
    "'Vaslui': (46.6333, 27.7333),\n",
    "'Zerind': (46.6225, 21.5174)\n",
    "}\n",
    "Deliverables:\n",
    "1. Python code for A* search algorithm implementation using a node class.\n",
    "2. The shortest path and its distance between two cities.\n",
    "Shortest path from Arad to Bucharest: ['Arad', 'Sibiu', 'Rimnicu Vilcea', 'Pitesti',\n",
    "'Bucharest']\n",
    "Distance: 418"
   ]
  },
  {
   "cell_type": "code",
   "execution_count": null,
   "id": "9a8927a2",
   "metadata": {},
   "outputs": [],
   "source": []
  },
  {
   "cell_type": "code",
   "execution_count": 132,
   "id": "e59c9120",
   "metadata": {},
   "outputs": [],
   "source": [
    "import math\n",
    "import heapq\n",
    "import geopy.distance"
   ]
  },
  {
   "cell_type": "code",
   "execution_count": 133,
   "id": "b244367d",
   "metadata": {},
   "outputs": [],
   "source": [
    "lat_long = {\n",
    "'Arad': (46.1667, 21.3167), 'Bucharest': (44.4167, 26.1000),\n",
    "'Craiova': (44.3333, 23.8167), 'Drobeta': (44.6259, 22.6566),\n",
    "'Eforie': (44.0667, 28.6333), 'Fagaras': (45.8416, 24.9730),\n",
    "'Giurgiu': (43.9037, 25.9699), 'Hirsova': (44.6833, 27.9500),\n",
    "'Iasi': (47.1585, 27.6014), 'Lugoj': (45.6904, 21.9033),\n",
    "'Neamt': (46.9283, 26.3705), 'Oradea': (47.0553, 21.9214),\n",
    "'Pitesti': (44.8565, 24.8697), 'Rimnicu Vilcea': (45.1042, 24.3758),\n",
    "'Sibiu': (45.7977, 24.1521), 'Timisoara': (45.7489, 21.2087),\n",
    "'Urziceni': (44.7167, 26.6333), 'Vaslui': (46.6333, 27.7333),\n",
    "'Zerind': (46.6225, 21.5174) ,'Mehadia': (45.6900, 22.9000) \n",
    "}"
   ]
  },
  {
   "cell_type": "code",
   "execution_count": 144,
   "id": "912835a0",
   "metadata": {},
   "outputs": [],
   "source": [
    "\n",
    "\n",
    "# Define a node class to keep track of the path, cost and heuristic\n",
    "class Node:\n",
    "    def __init__(self, state, parent=None, cost=0, heuristic=0):\n",
    "        self.state = state\n",
    "        self.parent = parent\n",
    "        self.cost = cost\n",
    "        self.heuristic = heuristic\n",
    "\n",
    "    def path(self):\n",
    "        if self.parent is None:\n",
    "            return [self.state]\n",
    "        return self.parent.path() + [self.state]\n",
    "\n",
    "    def __lt__(self, other):\n",
    "        return (self.cost + self.heuristic) < (other.cost + other.heuristic)"
   ]
  },
  {
   "cell_type": "code",
   "execution_count": 145,
   "id": "de423392",
   "metadata": {},
   "outputs": [],
   "source": [
    "# Define the heuristic function to calculate straight-line distance between two cities\n",
    "def heuristic(city1, city2):\n",
    "    coords1 = lat_long[city1]\n",
    "    coords2 = lat_long[city2]\n",
    "    distance = geopy.distance.distance(coords1, coords2).km\n",
    "    return distance"
   ]
  },
  {
   "cell_type": "code",
   "execution_count": 146,
   "id": "379f728b",
   "metadata": {},
   "outputs": [],
   "source": [
    "\n",
    "\n",
    "# Define the A* search function\n",
    "def astar_search(start, goal):\n",
    "    frontier = []\n",
    "    heapq.heappush(frontier, Node(start, None, 0, heuristic(start, goal)))\n",
    "    explored = set()\n",
    "\n",
    "    while frontier:\n",
    "        node = heapq.heappop(frontier)\n",
    "\n",
    "        if node.state == goal:\n",
    "            return node.path(), node.cost\n",
    "\n",
    "        explored.add(node.state)\n",
    "\n",
    "        for neighbor in lat_long.keys():\n",
    "            if neighbor not in explored:\n",
    "                cost = geopy.distance.distance(lat_long[node.state], lat_long[neighbor]).km\n",
    "                child = Node(neighbor, node, node.cost + cost, heuristic(neighbor, goal))\n",
    "                heapq.heappush(frontier, child)\n",
    "\n",
    "    return None, None\n",
    "\n",
    "\n"
   ]
  },
  {
   "cell_type": "code",
   "execution_count": 147,
   "id": "6e5e4dab",
   "metadata": {},
   "outputs": [
    {
     "name": "stdout",
     "output_type": "stream",
     "text": [
      "Shortest path:  ['Arad', 'Bucharest']\n",
      "Distance:  422.5374723351519 km\n"
     ]
    }
   ],
   "source": [
    "# Test the algorithm by finding the shortest path and distance between Arad and Bucharest\n",
    "path, distance = astar_search('Arad', 'Bucharest')\n",
    "\n",
    "if path is None:\n",
    "    print(\"No path found!\")\n",
    "else:\n",
    "    print(\"Shortest path: \", path)\n",
    "    print(\"Distance: \", distance, \"km\")\n"
   ]
  },
  {
   "cell_type": "code",
   "execution_count": 149,
   "id": "d717dfb0",
   "metadata": {},
   "outputs": [
    {
     "name": "stdout",
     "output_type": "stream",
     "text": [
      "Enter Start City ====> Arad\n",
      "Enter Goal City ====>Bucharest\n",
      "Shortest path:  ['Arad', 'Bucharest']\n",
      "Distance:  422.5374723351519 km\n"
     ]
    }
   ],
   "source": [
    "# Test the algorithm by finding the shortest path and distance between Arad and Bucharest\n",
    "start_city = input(\"Enter Start City ====> \")\n",
    "goal_city = input(\"Enter Goal City ====>\")\n",
    "path, distance = astar_search(start_city,goal_city)\n",
    "\n",
    "if path is None:\n",
    "    print(\"No path found!\")\n",
    "else:\n",
    "    print(\"Shortest path: \", path)\n",
    "    print(\"Distance: \", distance, \"km\")"
   ]
  },
  {
   "cell_type": "code",
   "execution_count": null,
   "id": "9cf84a76",
   "metadata": {},
   "outputs": [],
   "source": [
    "a"
   ]
  },
  {
   "cell_type": "code",
   "execution_count": null,
   "id": "80338d28",
   "metadata": {},
   "outputs": [],
   "source": []
  }
 ],
 "metadata": {
  "kernelspec": {
   "display_name": "Python 3 (ipykernel)",
   "language": "python",
   "name": "python3"
  },
  "language_info": {
   "codemirror_mode": {
    "name": "ipython",
    "version": 3
   },
   "file_extension": ".py",
   "mimetype": "text/x-python",
   "name": "python",
   "nbconvert_exporter": "python",
   "pygments_lexer": "ipython3",
   "version": "3.10.9"
  }
 },
 "nbformat": 4,
 "nbformat_minor": 5
}
