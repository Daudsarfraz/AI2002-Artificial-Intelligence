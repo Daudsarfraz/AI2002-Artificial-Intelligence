{
 "cells": [
  {
   "cell_type": "markdown",
   "id": "b564384a",
   "metadata": {},
   "source": [
    "# Dawood Sarfraz \n",
    "# 20P-0153\n",
    "# BSCS-6B\n",
    "# AI Lab-02\n"
   ]
  },
  {
   "cell_type": "markdown",
   "id": "a70761db",
   "metadata": {},
   "source": [
    "# Task-01"
   ]
  },
  {
   "cell_type": "code",
   "execution_count": 1,
   "id": "daaebcf3",
   "metadata": {},
   "outputs": [
    {
     "name": "stdout",
     "output_type": "stream",
     "text": [
      "\n",
      "\n",
      "\t\t WELL-COME FIRE ALARM SYSTEM \n",
      "\n",
      "\n",
      "Enter status of smoke (0/1): 1\n",
      "Enter value of temperature : 56\n",
      "HIGH TEMPERATURE AND SMOKE IS DETECTED \n",
      "ALAEAM STATUS ON , SPRINKLE SYSTEM STATUS ON , FIRE-BRIGADE STATUS CALLING\n"
     ]
    }
   ],
   "source": [
    "def fire_alarming():\n",
    "    \n",
    "    fire_department = \"NO CALLING\"\n",
    "    sprinkle_system = \"OFF\"\n",
    "    alarm = \"OFF\"\n",
    "    print(\"\\n\\n\\t\\t WELL-COME FIRE ALARM SYSTEM \\n\\n\")\n",
    "    smoke = int(input(\"Enter status of smoke (0/1): \"))\n",
    "    temperature = int(input(\"Enter value of temperature : \"))\n",
    "    # temp and smoke both detected\n",
    "    if temperature >= 50 and smoke == 1:\n",
    "        alarm = \"ON\"\n",
    "        fire_department = \"CALLING\"  \n",
    "        sprinkle_system = \"ON\"\n",
    "        print(\"HIGH TEMPERATURE AND SMOKE IS DETECTED \")\n",
    "        print(f\"ALAEAM STATUS {alarm} , SPRINKLE SYSTEM STATUS {sprinkle_system} , FIRE-BRIGADE STATUS {fire_department}\")\n",
    "    # smoke is detected\n",
    "    elif smoke == 1:\n",
    "        alarm = \"ON\"\n",
    "        sprinkle_system = \"ON\"\n",
    "        print(\"SMOKE IS DETECTED BUT NO HIGH TEMPERATURE\")\n",
    "        print(f\"ALAEAM STATUS {alarm} . PRINKLE SYSTEM STATUS {sprinkle_system}\")\n",
    "        \n",
    "    # temp is detected\n",
    "    elif temperature > 50:\n",
    "        alarm = \"ON\"\n",
    "        fire_department = \"CALLING\"\n",
    "        print(\"HIGH TEMPERETURE IS DETECTED BUT NO SMOKE\")\n",
    "        print(f\"ALAEAM STATUS {alarm} . FIRE-BRIGADE STATUS {fire_department}\")\n",
    "        \n",
    "    # temp and smoke both not detected\n",
    "   # if temperature < 50 and smoke == 0:\n",
    "    else :\n",
    "        alarm = \"OFF\"\n",
    "        fire_department = \"OFF\"\n",
    "        sprinkle_system = \"OFF\"\n",
    "        print(\"BUILDING IS SAFE \")\n",
    "        print(f\"ALAEAM STATUS {alarm} , SPRINKLE SYSTEM STATUS {sprinkle_system} , FIRE-BRIGADE STATUS {fire_department}\")\n",
    "        \n",
    "        \n",
    "        \n",
    "fire_alarming()     "
   ]
  },
  {
   "cell_type": "markdown",
   "id": "a5a094e7",
   "metadata": {},
   "source": [
    "# Task-02"
   ]
  },
  {
   "cell_type": "code",
   "execution_count": 6,
   "id": "11b5c0c0",
   "metadata": {},
   "outputs": [
    {
     "name": "stdout",
     "output_type": "stream",
     "text": [
      "PLEASE ENTER THE STATE OF SOIL : der\n",
      "GIVEN INPUT IS IN-VALID\n"
     ]
    }
   ],
   "source": [
    "class watering_system: \n",
    "    \n",
    "    def function(self):\n",
    "        self.soil = input(\"PLEASE ENTER THE STATE OF SOIL : \")\n",
    "        # Conditions for DRY\n",
    "        if self.soil == \"DRY\" or self.soil == \"Dry\" or self.soil == \"dry\":\n",
    "            \n",
    "            print(\"SOIL IS DRY.\")\n",
    "            print(\"WATERING SYSTEM IS ON AND WATERING THE FIELDS.\") \n",
    "            print(\"WATERING SYSTEM IS ACTIVATED.\")\n",
    "            \n",
    "        \n",
    "        # Conditions for MOIST\n",
    "        elif self.soil == \"Moist\" or self.soil == \"moist\" or self.soil == \"MOIST\":\n",
    "            \n",
    "            print(\"SOIL IS MOIST.\")\n",
    "            print(\"WATERING SYSTEM IS OFF NOW AND NOT WATERING THE FIELDS.\")\n",
    "        \n",
    "        # Conditions for WET\n",
    "        elif self.soil == \"WET\" or self.soil == \"wet\" or self.soil == \"Wet\":\n",
    "            \n",
    "            print(\"SOIL IS WET\")\n",
    "            print(\"WATERING SYSTEM IS DEACTIVATED NOW AND NOT WATERING THE FIELDS.\")\n",
    "        else :\n",
    "            print(\"GIVEN INPUT IS IN-VALID\")\n",
    "            \n",
    "        \n",
    "        \n",
    "\n",
    "\n",
    "var = watering_system()\n",
    "var.function()"
   ]
  },
  {
   "cell_type": "code",
   "execution_count": null,
   "id": "3c467c8c",
   "metadata": {},
   "outputs": [],
   "source": []
  }
 ],
 "metadata": {
  "kernelspec": {
   "display_name": "Python 3 (ipykernel)",
   "language": "python",
   "name": "python3"
  },
  "language_info": {
   "codemirror_mode": {
    "name": "ipython",
    "version": 3
   },
   "file_extension": ".py",
   "mimetype": "text/x-python",
   "name": "python",
   "nbconvert_exporter": "python",
   "pygments_lexer": "ipython3",
   "version": "3.10.6"
  }
 },
 "nbformat": 4,
 "nbformat_minor": 5
}
