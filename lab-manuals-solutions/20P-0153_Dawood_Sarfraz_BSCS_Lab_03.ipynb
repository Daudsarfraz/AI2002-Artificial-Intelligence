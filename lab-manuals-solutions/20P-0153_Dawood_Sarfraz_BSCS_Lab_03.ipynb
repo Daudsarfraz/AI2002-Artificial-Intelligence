{
 "cells": [
  {
   "cell_type": "markdown",
   "id": "c863ea5c",
   "metadata": {},
   "source": [
    "# Name:  Dawood Sarfraz\n",
    "# Roll no: 20P-0153\n",
    "# Section: BSCS-6B\n",
    "# Lab: 03\n"
   ]
  },
  {
   "cell_type": "markdown",
   "id": "dd017850",
   "metadata": {},
   "source": [
    "# TASK # 01"
   ]
  },
  {
   "cell_type": "code",
   "execution_count": 82,
   "id": "27ca9ff3",
   "metadata": {},
   "outputs": [],
   "source": [
    "import pandas as pd\n",
    "import numpy as np\n",
    "import matplotlib.pyplot as plt"
   ]
  },
  {
   "cell_type": "code",
   "execution_count": 98,
   "id": "fa63f16e",
   "metadata": {},
   "outputs": [],
   "source": [
    "class K_Nearest_Neighbor:\n",
    "    def __init__(self):\n",
    "        pass\n",
    "\n",
    "    def euclidean_distance(x1, x2):\n",
    "        print(\"Calculate the Euclidean distance between two points\")\n",
    "        distance = 0\n",
    "        for i in range(len(x1)):\n",
    "            distance += (x1[i] - x2[i]) ** 2\n",
    "        return math.sqrt(distance)\n",
    "\n",
    "    def get_neighbors(train, test_instance, k):\n",
    "        print(\"Find the k nearest neighbors of a test point\")\n",
    "        distances = []\n",
    "      \n",
    "        for train_instance in train:\n",
    "            dist = euclidean_distance(train_instance[:-1], test_instance)\n",
    "            distances.append((train_instance, dist))\n",
    "       \n",
    "        distances.sort(key = lambda x: x[1])\n",
    "        neighbors = []\n",
    "        \n",
    "        for i in range(k):\n",
    "            neighbors.append(distances[i][0])\n",
    "        \n",
    "        return neighbors\n",
    "        \n",
    "    \n",
    "    def predict_classification(train, test_instance, k):\n",
    "        print(\"Predict the class label of a test point using KNN\")\n",
    "        neighbors = get_neighbors(X_train, y_train, x_test, k)\n",
    "        counts = {}\n",
    "        for neighbor in neighbors:\n",
    "            if neighbor in counts:\n",
    "                counts[neighbor] += 1\n",
    "            else:\n",
    "                counts[neighbor] = 1\n",
    "        return max(counts, key=counts.get)\n"
   ]
  },
  {
   "cell_type": "code",
   "execution_count": 99,
   "id": "13855d6f",
   "metadata": {},
   "outputs": [
    {
     "name": "stdout",
     "output_type": "stream",
     "text": [
      "K_Nearest_Neighbor.euclidean_distance()\n",
      "K_Nearest_Neighbor.predict_classification()\n",
      "K_Nearest_Neighbor.get_neighbors()\n"
     ]
    }
   ],
   "source": [
    "print(\"K_Nearest_Neighbor.euclidean_distance()\")\n",
    "print(\"K_Nearest_Neighbor.predict_classification()\")\n",
    "print(\"K_Nearest_Neighbor.get_neighbors()\")"
   ]
  },
  {
   "cell_type": "markdown",
   "id": "f763ba53",
   "metadata": {},
   "source": [
    "# Task # 02"
   ]
  },
  {
   "cell_type": "code",
   "execution_count": 100,
   "id": "fe8bbdc7",
   "metadata": {},
   "outputs": [
    {
     "name": "stderr",
     "output_type": "stream",
     "text": [
      "/home/linux/anaconda3/lib/python3.9/site-packages/sklearn/neighbors/_classification.py:228: FutureWarning: Unlike other reduction functions (e.g. `skew`, `kurtosis`), the default behavior of `mode` typically preserves the axis it acts along. In SciPy 1.11.0, this behavior will change: the default value of `keepdims` will become False, the `axis` over which the statistic is taken will be eliminated, and the value None will no longer be accepted. Set `keepdims` to True or False to avoid this warning.\n",
      "  mode, _ = stats.mode(_y[neigh_ind, k], axis=1)\n",
      "/home/linux/anaconda3/lib/python3.9/site-packages/sklearn/neighbors/_classification.py:228: FutureWarning: Unlike other reduction functions (e.g. `skew`, `kurtosis`), the default behavior of `mode` typically preserves the axis it acts along. In SciPy 1.11.0, this behavior will change: the default value of `keepdims` will become False, the `axis` over which the statistic is taken will be eliminated, and the value None will no longer be accepted. Set `keepdims` to True or False to avoid this warning.\n",
      "  mode, _ = stats.mode(_y[neigh_ind, k], axis=1)\n",
      "/home/linux/anaconda3/lib/python3.9/site-packages/sklearn/neighbors/_classification.py:228: FutureWarning: Unlike other reduction functions (e.g. `skew`, `kurtosis`), the default behavior of `mode` typically preserves the axis it acts along. In SciPy 1.11.0, this behavior will change: the default value of `keepdims` will become False, the `axis` over which the statistic is taken will be eliminated, and the value None will no longer be accepted. Set `keepdims` to True or False to avoid this warning.\n",
      "  mode, _ = stats.mode(_y[neigh_ind, k], axis=1)\n",
      "/home/linux/anaconda3/lib/python3.9/site-packages/sklearn/neighbors/_classification.py:228: FutureWarning: Unlike other reduction functions (e.g. `skew`, `kurtosis`), the default behavior of `mode` typically preserves the axis it acts along. In SciPy 1.11.0, this behavior will change: the default value of `keepdims` will become False, the `axis` over which the statistic is taken will be eliminated, and the value None will no longer be accepted. Set `keepdims` to True or False to avoid this warning.\n",
      "  mode, _ = stats.mode(_y[neigh_ind, k], axis=1)\n",
      "/home/linux/anaconda3/lib/python3.9/site-packages/sklearn/neighbors/_classification.py:228: FutureWarning: Unlike other reduction functions (e.g. `skew`, `kurtosis`), the default behavior of `mode` typically preserves the axis it acts along. In SciPy 1.11.0, this behavior will change: the default value of `keepdims` will become False, the `axis` over which the statistic is taken will be eliminated, and the value None will no longer be accepted. Set `keepdims` to True or False to avoid this warning.\n",
      "  mode, _ = stats.mode(_y[neigh_ind, k], axis=1)\n",
      "/home/linux/anaconda3/lib/python3.9/site-packages/sklearn/neighbors/_classification.py:228: FutureWarning: Unlike other reduction functions (e.g. `skew`, `kurtosis`), the default behavior of `mode` typically preserves the axis it acts along. In SciPy 1.11.0, this behavior will change: the default value of `keepdims` will become False, the `axis` over which the statistic is taken will be eliminated, and the value None will no longer be accepted. Set `keepdims` to True or False to avoid this warning.\n",
      "  mode, _ = stats.mode(_y[neigh_ind, k], axis=1)\n",
      "/home/linux/anaconda3/lib/python3.9/site-packages/sklearn/neighbors/_classification.py:228: FutureWarning: Unlike other reduction functions (e.g. `skew`, `kurtosis`), the default behavior of `mode` typically preserves the axis it acts along. In SciPy 1.11.0, this behavior will change: the default value of `keepdims` will become False, the `axis` over which the statistic is taken will be eliminated, and the value None will no longer be accepted. Set `keepdims` to True or False to avoid this warning.\n",
      "  mode, _ = stats.mode(_y[neigh_ind, k], axis=1)\n",
      "/home/linux/anaconda3/lib/python3.9/site-packages/sklearn/neighbors/_classification.py:228: FutureWarning: Unlike other reduction functions (e.g. `skew`, `kurtosis`), the default behavior of `mode` typically preserves the axis it acts along. In SciPy 1.11.0, this behavior will change: the default value of `keepdims` will become False, the `axis` over which the statistic is taken will be eliminated, and the value None will no longer be accepted. Set `keepdims` to True or False to avoid this warning.\n",
      "  mode, _ = stats.mode(_y[neigh_ind, k], axis=1)\n",
      "/home/linux/anaconda3/lib/python3.9/site-packages/sklearn/neighbors/_classification.py:228: FutureWarning: Unlike other reduction functions (e.g. `skew`, `kurtosis`), the default behavior of `mode` typically preserves the axis it acts along. In SciPy 1.11.0, this behavior will change: the default value of `keepdims` will become False, the `axis` over which the statistic is taken will be eliminated, and the value None will no longer be accepted. Set `keepdims` to True or False to avoid this warning.\n",
      "  mode, _ = stats.mode(_y[neigh_ind, k], axis=1)\n",
      "/home/linux/anaconda3/lib/python3.9/site-packages/sklearn/neighbors/_classification.py:228: FutureWarning: Unlike other reduction functions (e.g. `skew`, `kurtosis`), the default behavior of `mode` typically preserves the axis it acts along. In SciPy 1.11.0, this behavior will change: the default value of `keepdims` will become False, the `axis` over which the statistic is taken will be eliminated, and the value None will no longer be accepted. Set `keepdims` to True or False to avoid this warning.\n",
      "  mode, _ = stats.mode(_y[neigh_ind, k], axis=1)\n",
      "/home/linux/anaconda3/lib/python3.9/site-packages/sklearn/neighbors/_classification.py:228: FutureWarning: Unlike other reduction functions (e.g. `skew`, `kurtosis`), the default behavior of `mode` typically preserves the axis it acts along. In SciPy 1.11.0, this behavior will change: the default value of `keepdims` will become False, the `axis` over which the statistic is taken will be eliminated, and the value None will no longer be accepted. Set `keepdims` to True or False to avoid this warning.\n",
      "  mode, _ = stats.mode(_y[neigh_ind, k], axis=1)\n"
     ]
    },
    {
     "name": "stdout",
     "output_type": "stream",
     "text": [
      "K = 1, accuracy = 0.45\n",
      "K = 2, accuracy = 0.36\n",
      "K = 3, accuracy = 0.45\n",
      "K = 4, accuracy = 0.45\n",
      "K = 5, accuracy = 0.45\n",
      "K = 6, accuracy = 0.45\n",
      "K = 7, accuracy = 0.55\n",
      "K = 8, accuracy = 0.45\n",
      "K = 9, accuracy = 0.36\n",
      "K = 10, accuracy = 0.45\n",
      "K = 11, accuracy = 0.45\n"
     ]
    },
    {
     "data": {
      "image/png": "[encoded data removed]",
      "text/plain": [
       "<Figure size 640x480 with 1 Axes>"
      ]
     },
     "metadata": {},
     "output_type": "display_data"
    }
   ],
   "source": [
    "from sklearn.model_selection import train_test_split\n",
    "from sklearn.neighbors import KNeighborsClassifier\n",
    "from sklearn.metrics import accuracy_score\n",
    "\n",
    "data = pd.read_csv(\"fruit_data_with_colors _1_.csv\")\n",
    "X = data.drop([\"fruit_name\", \"fruit_subtype\"], axis=1)\n",
    "y = data[\"fruit_label\"]\n",
    "X = X.fillna(X.mean())\n",
    "\n",
    "X_train, X_test, y_train, y_test = train_test_split(X, y, test_size=0.167, random_state=42)\n",
    "\n",
    "k_values = range(1, 12)\n",
    "accuracy_scores = []\n",
    "for k in k_values:\n",
    "    knn = KNeighborsClassifier(n_neighbors=k)\n",
    "    knn.fit(X_train, y_train)\n",
    "    y_pred = knn.predict(X_test)\n",
    "    accuracy = accuracy_score(y_test, y_pred)\n",
    "    accuracy_scores.append(accuracy)\n",
    "    print(f'K = {k}, accuracy = {accuracy:.2f}')\n",
    "\n",
    "plt.plot(k_values, accuracy_scores, marker='*')\n",
    "plt.xlabel('K-Neighbo')\n",
    "plt.ylabel('Accuracy of Model')\n",
    "plt.title('Accuracy scores for different values of K')\n",
    "plt.show()\n"
   ]
  },
  {
   "cell_type": "code",
   "execution_count": 64,
   "id": "fb45cdf0",
   "metadata": {},
   "outputs": [
    {
     "name": "stdout",
     "output_type": "stream",
     "text": [
      " \u001b[0m\u001b[01;34mCampusx\u001b[0m/\r\n",
      " \u001b[01;34mcodeme.com\u001b[0m/\r\n",
      " Dawood_Sarfraz_20p_0153_lab_03.ipynb\r\n",
      " \u001b[01;34meduraka\u001b[0m/\r\n",
      "\u001b[01;32m'fruit_data_with_colors _1_.csv'\u001b[0m*\r\n",
      "\u001b[01;34m'Kunal Kushwaha'\u001b[0m/\r\n",
      "'Machine Learning Roadmap 2020.pdf'\r\n",
      " \u001b[01;34mQuakstat\u001b[0m/\r\n",
      "\u001b[01;31m'Quality Assessment - Digital Colposcopy.zip'\u001b[0m\r\n"
     ]
    }
   ],
   "source": [
    "ls"
   ]
  },
  {
   "cell_type": "code",
   "execution_count": null,
   "id": "5fb52288",
   "metadata": {},
   "outputs": [],
   "source": []
  },
  {
   "cell_type": "code",
   "execution_count": null,
   "id": "3e06768f",
   "metadata": {},
   "outputs": [],
   "source": []
  },
  {
   "cell_type": "code",
   "execution_count": null,
   "id": "b272b092",
   "metadata": {},
   "outputs": [],
   "source": []
  }
 ],
 "metadata": {
  "kernelspec": {
   "display_name": "Python 3 (ipykernel)",
   "language": "python",
   "name": "python3"
  },
  "language_info": {
   "codemirror_mode": {
    "name": "ipython",
    "version": 3
   },
   "file_extension": ".py",
   "mimetype": "text/x-python",
   "name": "python",
   "nbconvert_exporter": "python",
   "pygments_lexer": "ipython3",
   "version": "3.9.13"
  }
 },
 "nbformat": 4,
 "nbformat_minor": 5
}
