{
 "cells": [
  {
   "cell_type": "code",
   "execution_count": 2,
   "metadata": {
    "colab": {
     "base_uri": "https://localhost:8080/"
    },
    "id": "uOd0hpZmx2-y",
    "outputId": "bd9b9f74-764e-4486-b8c6-7ca67b1c2b9e"
   },
   "outputs": [
    {
     "ename": "ModuleNotFoundError",
     "evalue": "No module named 'google.colab'",
     "output_type": "error",
     "traceback": [
      "\u001b[0;31m---------------------------------------------------------------------------\u001b[0m",
      "\u001b[0;31mModuleNotFoundError\u001b[0m                       Traceback (most recent call last)",
      "Cell \u001b[0;32mIn[2], line 6\u001b[0m\n\u001b[1;32m      1\u001b[0m \u001b[38;5;66;03m# Name: Dawood Sarfraz\u001b[39;00m\n\u001b[1;32m      2\u001b[0m \u001b[38;5;66;03m# Roll no: 20P-0153\u001b[39;00m\n\u001b[1;32m      3\u001b[0m \u001b[38;5;66;03m# Assignment: 01\u001b[39;00m\n\u001b[1;32m      4\u001b[0m \u001b[38;5;66;03m# Section: BSCS-6B\u001b[39;00m\n\u001b[0;32m----> 6\u001b[0m \u001b[38;5;28;01mfrom\u001b[39;00m \u001b[38;5;21;01mgoogle\u001b[39;00m\u001b[38;5;21;01m.\u001b[39;00m\u001b[38;5;21;01mcolab\u001b[39;00m \u001b[38;5;28;01mimport\u001b[39;00m drive\n\u001b[1;32m      7\u001b[0m drive\u001b[38;5;241m.\u001b[39mmount(\u001b[38;5;124m'\u001b[39m\u001b[38;5;124m/content/drive\u001b[39m\u001b[38;5;124m'\u001b[39m)\n\u001b[1;32m      9\u001b[0m \u001b[38;5;66;03m#file_path = \"/content/drive/MyDrive/AI_Assignment_01/task01.txt\"\u001b[39;00m\n\u001b[1;32m     10\u001b[0m \u001b[38;5;66;03m#file_path = \"/content/drive/MyDrive/AI_Assignment_01/task02.txt\"\u001b[39;00m\n",
      "\u001b[0;31mModuleNotFoundError\u001b[0m: No module named 'google.colab'"
     ]
    }
   ],
   "source": [
    "                          # Name: Dawood Sarfraz\n",
    "                          # Roll no: 20P-0153\n",
    "                          # Assignment: 01\n",
    "                          # Section: BSCS-6B\n",
    "\n",
    "from google.colab import drive\n",
    "drive.mount('/content/drive')\n",
    "\n",
    "#file_path = \"/content/drive/MyDrive/AI_Assignment_01/task01.txt\"\n",
    "#file_path = \"/content/drive/MyDrive/AI_Assignment_01/task02.txt\"\n",
    "file_path = \"/content/drive/MyDrive/AI_Assignment_01/task03.txt\"\n",
    "file = open(file_path, \"r\")\n",
    "FileData = file.read()\n",
    "\n",
    "sentence = 0\n",
    "character = 0\n",
    "word = 1\n",
    "for alphabet in FileData:\n",
    "    # For blank spaces of specific character\n",
    "    if((alphabet >= 'a' and alphabet <= 'z') or (alphabet >= 'A' and alphabet <= 'Z')):\n",
    "        character = character + 1\n",
    "    elif(alphabet == \" \" or alphabet == \"-\" ):\n",
    "        word = word + 1 \n",
    "    elif(alphabet == \".\" or alphabet ==  \"!\" or alphabet == \"?\"):\n",
    "        sentence = sentence + 1\n",
    "\n",
    "\n",
    "        \n",
    "        \n",
    "Readability_index = int (4.71 * (character/word) + 0.5 * (word/sentence)-21.43)\n",
    "if(Readability_index<0):\n",
    "    Readability_index = -(Readability_index)          \n",
    "        \n",
    "print(\"Number of sentences: \" ,sentence)        \n",
    "print(\"Number of words: \" ,word)\n",
    "print(\"Number of characters: \" ,character)\n",
    "print(\"Readability index: \", Readability_index)"
   ]
  },
  {
   "cell_type": "code",
   "execution_count": null,
   "metadata": {
    "id": "xGxLxCHwUqQi"
   },
   "outputs": [],
   "source": []
  }
 ],
 "metadata": {
  "colab": {
   "provenance": []
  },
  "kernelspec": {
   "display_name": "Python 3 (ipykernel)",
   "language": "python",
   "name": "python3"
  },
  "language_info": {
   "codemirror_mode": {
    "name": "ipython",
    "version": 3
   },
   "file_extension": ".py",
   "mimetype": "text/x-python",
   "name": "python",
   "nbconvert_exporter": "python",
   "pygments_lexer": "ipython3",
   "version": "3.10.6"
  }
 },
 "nbformat": 4,
 "nbformat_minor": 1
}
