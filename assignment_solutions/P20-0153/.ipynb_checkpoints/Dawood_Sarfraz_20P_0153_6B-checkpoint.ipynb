{
 "cells": [
  {
   "cell_type": "code",
   "execution_count": 6,
   "id": "08637d7d",
   "metadata": {},
   "outputs": [
    {
     "name": "stdout",
     "output_type": "stream",
     "text": [
      "Number of sentences:  3\n",
      "Number of words:  126\n",
      "Number of characters:  499\n",
      "Readability index:  18\n"
     ]
    }
   ],
   "source": [
    "                          # Name: Dawood Sarfraz\n",
    "                          # Roll no: 20P-0153\n",
    "                          # Assignment: 01\n",
    "                          # Section: BSCS-6B\n",
    "                \n",
    "                `         # >>> TASK 3 <<<\n",
    "# Mounting Google drive \n",
    "from google.colab import drive\n",
    "drive.mount('/content/drive')\n",
    "\n",
    "# path of file\n",
    "file_path = \"/content/drive/MyDrive/AI_Assignment_01/task03.txt\"\n",
    "# Opening File in Read mode\n",
    "file = open(file_path,\"r\")\n",
    "FileData = file.read()\n",
    "\n",
    "\n",
    "sentence = 0\n",
    "character = 0\n",
    "word = 0\n",
    "for alphabet in FileData:\n",
    "    # For blank spaces of specific character\n",
    "    if((alphabet >= 'a' and alphabet <= 'z') or (alphabet >= 'A' and alphabet <= 'Z')):\n",
    "        character = character + 1\n",
    "    elif(alphabet == \" \" or alphabet == \"-\" or alphabet == \"\\n\" or alphabet == \"\\t\" ):\n",
    "        word = word + 1 \n",
    "    elif(alphabet == \".\" or alphabet ==  \"!\" or alphabet == \"?\"):\n",
    "        sentence = sentence + 1\n",
    "\n",
    "\n",
    "        \n",
    "        \n",
    "Readability_index = int (4.71 * (character/word) + 0.5 * (word/sentence)-21.43)\n",
    "if(Readability_index<0):\n",
    "    Readability_index = -(Readability_index)          \n",
    "        \n",
    "print(\"Number of sentences: \" ,sentence)        \n",
    "print(\"Number of words: \" ,word)\n",
    "print(\"Number of characters: \" ,character)\n",
    "print(\"Readability index: \", Readability_index)"
   ]
  },
  {
   "cell_type": "code",
   "execution_count": 12,
   "id": "fdd8b9fb",
   "metadata": {},
   "outputs": [
    {
     "name": "stdout",
     "output_type": "stream",
     "text": [
      "Number of sentences:  3\n",
      "Number of words:  31\n",
      "Number of characters:  126\n",
      "Readability index:  2\n"
     ]
    }
   ],
   "source": [
    "                          # Name: Dawood Sarfraz\n",
    "                          # Roll no: 20P-0153\n",
    "                          # Assignment: 01\n",
    "                          # Section: BSCS-6B\n",
    "                \n",
    "                          # >>> TASK 02 <<<\n",
    "                    \n",
    "        \n",
    "# Mounting google drive\n",
    "from google.colab import drive\n",
    "drive.mount('/content/drive')\n",
    "\n",
    "# File path\n",
    "file_path = \"/content/drive/MyDrive/AI_Assignment_01/task02.txt\"\n",
    "# Opening File in Read mode\n",
    "file = open(file_path,\"r\")\n",
    "FileData = file.read()\n",
    "\n",
    "\n",
    "sentence = 0\n",
    "character = 0\n",
    "word = 0\n",
    "for alphabet in FileData:\n",
    "    # For blank spaces of specific character\n",
    "    if((alphabet >= 'a' and alphabet <= 'z') or (alphabet >= 'A' and alphabet <= 'Z')):\n",
    "        character = character + 1\n",
    "    elif(alphabet == \" \" or alphabet == \"-\" or alphabet == \"\\n\" or alphabet == \"\\t\" ):\n",
    "        word = word + 1 \n",
    "    elif(alphabet == \".\" or alphabet ==  \"!\" or alphabet == \"?\"):\n",
    "        sentence = sentence + 1\n",
    "\n",
    "\n",
    "        \n",
    "        \n",
    "Readability_index = int (4.71 * (character/word) + 0.5 * (word/sentence)-21.43)\n",
    "if(Readability_index<0):\n",
    "    Readability_index = -(Readability_index)          \n",
    "        \n",
    "print(\"Number of sentences: \" ,sentence)        \n",
    "print(\"Number of words: \" ,word)\n",
    "print(\"Number of characters: \" ,character)\n",
    "print(\"Readability index: \", Readability_index)"
   ]
  },
  {
   "cell_type": "code",
   "execution_count": 14,
   "id": "c863a96c",
   "metadata": {},
   "outputs": [
    {
     "name": "stdout",
     "output_type": "stream",
     "text": [
      "Number of sentences:  2\n",
      "Number of words:  7\n",
      "Number of characters:  23\n",
      "Readability index:  4\n"
     ]
    }
   ],
   "source": [
    "                          # Name: Dawood Sarfraz\n",
    "                          # Roll no: 20P-0153\n",
    "                          # Assignment: 01\n",
    "                          # Section: BSCS-6B\n",
    "                \n",
    "                \n",
    "                          # >>> TASK 01 <<<\n",
    "# Mounting Google Drive\n",
    "from google.colab import drive\n",
    "drive.mount('/content/drive')\n",
    "\n",
    "# Path\n",
    "file_path = \"/content/drive/MyDrive/AI_Assignment_01/task01.txt\"\n",
    "# Opening File in Read mode\n",
    "file = open(file_path,\"r\")\n",
    "FileData = file.read()\n",
    "\n",
    "\n",
    "sentence = 0\n",
    "character = 0\n",
    "word = 0\n",
    "for alphabet in FileData:\n",
    "    # For blank spaces of specific character\n",
    "    if((alphabet >= 'a' and alphabet <= 'z') or (alphabet >= 'A' and alphabet <= 'Z')):\n",
    "        character = character + 1\n",
    "    elif(alphabet == \" \" or alphabet == \"-\" or alphabet == \"\\n\" or alphabet == \"\\t\" ):\n",
    "        word = word + 1 \n",
    "    elif(alphabet == \".\" or alphabet ==  \"!\" or alphabet == \"?\"):\n",
    "        sentence = sentence + 1\n",
    "\n",
    "\n",
    "        \n",
    "        \n",
    "Readability_index = int (4.71 * (character/word) + 0.5 * (word/sentence)-21.43)\n",
    "if(Readability_index<0):\n",
    "    Readability_index = -(Readability_index)          \n",
    "        \n",
    "print(\"Number of sentences: \" ,sentence)        \n",
    "print(\"Number of words: \" ,word)\n",
    "print(\"Number of characters: \" ,character)\n",
    "print(\"Readability index: \", Readability_index)"
   ]
  },
  {
   "cell_type": "code",
   "execution_count": null,
   "id": "7c7671a6",
   "metadata": {},
   "outputs": [],
   "source": []
  }
 ],
 "metadata": {
  "kernelspec": {
   "display_name": "Python 3 (ipykernel)",
   "language": "python",
   "name": "python3"
  },
  "language_info": {
   "codemirror_mode": {
    "name": "ipython",
    "version": 3
   },
   "file_extension": ".py",
   "mimetype": "text/x-python",
   "name": "python",
   "nbconvert_exporter": "python",
   "pygments_lexer": "ipython3",
   "version": "3.10.6"
  }
 },
 "nbformat": 4,
 "nbformat_minor": 5
}
